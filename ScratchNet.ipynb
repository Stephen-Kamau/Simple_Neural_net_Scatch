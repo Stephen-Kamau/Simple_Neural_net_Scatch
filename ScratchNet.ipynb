{
 "cells": [
  {
   "cell_type": "code",
   "execution_count": 4,
   "metadata": {},
   "outputs": [],
   "source": [
    "import numpy as np\n",
    "import pandas as pd\n",
    "import random\n",
    "import matplotlib.pyplot as plt"
   ]
  },
  {
   "cell_type": "code",
   "execution_count": 90,
   "metadata": {},
   "outputs": [],
   "source": [
    "# #generate object that will gives us the numbers trend\n",
    "# obj = np.random.RandomState(75)\n",
    "# #values for x axis\n",
    "# x = 10 * obj.rand(100)\n",
    "# x2 = 3.54 * obj.rand(100)\n",
    "# #values for the y axis\n",
    "# y = 2 * x - 1 + obj.randn(100)\n",
    "\n",
    "# data = {\"X\":x , \"X2\":x2 , \"y\":y}\n",
    "# df = pd.DataFrame(data)"
   ]
  },
  {
   "cell_type": "code",
   "execution_count": 103,
   "metadata": {},
   "outputs": [],
   "source": [
    "X = np.array(([2,8] , [4,7] , [3,2]) , dtype = float)\n",
    "y = np.array(([74] , [71] ,[93]) , dtype = float)"
   ]
  },
  {
   "cell_type": "code",
   "execution_count": 104,
   "metadata": {},
   "outputs": [],
   "source": [
    "# scale\n",
    "X = X/np.amax(X , axis =0)\n",
    "y = y/100"
   ]
  },
  {
   "cell_type": "code",
   "execution_count": null,
   "metadata": {},
   "outputs": [],
   "source": []
  },
  {
   "cell_type": "code",
   "execution_count": 105,
   "metadata": {},
   "outputs": [],
   "source": [
    "# np.random.randn(2,4)"
   ]
  },
  {
   "cell_type": "code",
   "execution_count": 106,
   "metadata": {},
   "outputs": [],
   "source": [
    "# np.dot(np.random.randn(100,2) , np.random.randn(2,4))"
   ]
  },
  {
   "cell_type": "code",
   "execution_count": null,
   "metadata": {},
   "outputs": [],
   "source": []
  },
  {
   "cell_type": "code",
   "execution_count": 107,
   "metadata": {},
   "outputs": [],
   "source": [
    "# create a simple neural net to show foward and backward propagation"
   ]
  },
  {
   "cell_type": "markdown",
   "metadata": {},
   "source": [
    "## sample Backward and foward Propagations"
   ]
  },
  {
   "cell_type": "code",
   "execution_count": 108,
   "metadata": {},
   "outputs": [],
   "source": [
    "class NeuralNet(object):\n",
    "    #init function\n",
    "    def __init__(self):\n",
    "        self.insize = 2\n",
    "        self.outsize = 1\n",
    "        self.hiddensize = 3\n",
    "        \n",
    "        #weights\n",
    "        #weight matrix from input to hidden  --> 2*3\n",
    "        self.w1 = np.random.randn(self.insize , self.hiddensize)\n",
    "        #weign matrix from hidden to output --> 3*1\n",
    "        self.w2 = np.random.randn(self.hiddensize , self.outsize)\n",
    "    \n",
    "    \n",
    "    #sigmoid function\n",
    "    def sigmoid(self , a , d = False):\n",
    "        if (d == True):\n",
    "            return a *(1-a)\n",
    "        \n",
    "        #carry out sigmoid operation\n",
    "        return 1/(1+np.exp(-a))\n",
    "        \n",
    "    #forwad feeding   throught out the net\n",
    "    def fowardfeed(self , x):\n",
    "        #dot product of input and first hidden \n",
    "        self.out1 = np.dot(x , self.w1) \n",
    "        #activation fuction is applied to the out\n",
    "        self.out2 = self.sigmoid(self.out1)\n",
    "        #product of hidden layer and weight \n",
    "        self.out3 = np.dot(self.out2 , self.w2)\n",
    "        #activation\n",
    "        out4 = self.sigmoid(self.out3)\n",
    "        \n",
    "        return out4\n",
    "    \n",
    "    #backward feed\n",
    "    def backfeed(self , x , y , out):\n",
    "        #find the error between out and real value\n",
    "        self.outError = y-out\n",
    "        #error change/delta\n",
    "        self.outdiff = self.outError*self.sigmoid(out , d = True)\n",
    "        #error in out2 since it contributes to final out\n",
    "        self.out2Error = self.outdiff.dot(self.w2.T)\n",
    "        #delta change of error\n",
    "        self.out2diff = self.out2Error*self.sigmoid(self.out2 , d = True)\n",
    "        \n",
    "        #update the weights now\n",
    "        #adjust input---> hidden weight\n",
    "        self.w1 += x.T.dot(self.out2diff)\n",
    "        #adjusts hidden ---> output weight\n",
    "        self.w2 += self.out2.dot(self.outdiff)\n",
    "        \n",
    "        \n",
    "    #method for training\n",
    "    def train(self , X,y):\n",
    "        out = self.fowardfeed(X)\n",
    "        self.backfeed(X , y , out)\n",
    "        "
   ]
  },
  {
   "cell_type": "code",
   "execution_count": 109,
   "metadata": {},
   "outputs": [],
   "source": [
    "# df[[\"X\" , \"X2\"]].values"
   ]
  },
  {
   "cell_type": "code",
   "execution_count": 112,
   "metadata": {},
   "outputs": [],
   "source": [
    "# train to check results\n",
    "model = NeuralNet()\n",
    "\n",
    "# iterate 500 times and see the results\n",
    "for i in range(10000):\n",
    "    model.train(X , y)"
   ]
  },
  {
   "cell_type": "code",
   "execution_count": 113,
   "metadata": {},
   "outputs": [
    {
     "name": "stdout",
     "output_type": "stream",
     "text": [
      "Predictions   \n",
      "  [[0.72830975]\n",
      " [0.72801499]\n",
      " [0.90950249]]\n"
     ]
    }
   ],
   "source": [
    "# predictions test\n",
    "\n",
    "print(f\"Predictions   \\n  {model.fowardfeed(X)}\")"
   ]
  },
  {
   "cell_type": "code",
   "execution_count": 71,
   "metadata": {},
   "outputs": [
    {
     "data": {
      "text/plain": [
       "array([[0.74],\n",
       "       [0.71],\n",
       "       [0.93]])"
      ]
     },
     "execution_count": 71,
     "metadata": {},
     "output_type": "execute_result"
    }
   ],
   "source": [
    "y"
   ]
  },
  {
   "cell_type": "code",
   "execution_count": null,
   "metadata": {},
   "outputs": [],
   "source": []
  }
 ],
 "metadata": {
  "kernelspec": {
   "display_name": "Python 3",
   "language": "python",
   "name": "python3"
  },
  "language_info": {
   "codemirror_mode": {
    "name": "ipython",
    "version": 3
   },
   "file_extension": ".py",
   "mimetype": "text/x-python",
   "name": "python",
   "nbconvert_exporter": "python",
   "pygments_lexer": "ipython3",
   "version": "3.8.5"
  }
 },
 "nbformat": 4,
 "nbformat_minor": 4
}
